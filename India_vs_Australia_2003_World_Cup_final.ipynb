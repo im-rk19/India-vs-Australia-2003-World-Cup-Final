{
 "cells": [
  {
   "cell_type": "code",
   "execution_count": 195,
   "metadata": {
    "colab": {},
    "colab_type": "code",
    "id": "HNE3FUl1gjar"
   },
   "outputs": [],
   "source": [
    "import numpy as np\n",
    "import pandas as pd\n",
    "import time\n"
   ]
  },
  {
   "cell_type": "markdown",
   "metadata": {
    "colab_type": "text",
    "id": "LWI3C6X5hII0"
   },
   "source": [
    "Here are the lineups for the clash of the titans, the biggest cricket match of the year, the finals of Cricket World Cup 2003"
   ]
  },
  {
   "cell_type": "code",
   "execution_count": 65,
   "metadata": {
    "colab": {},
    "colab_type": "code",
    "id": "cK790eIWfY73"
   },
   "outputs": [],
   "source": [
    "ind = pd.Series(['Sachin Tendulkar','Virender Sehwag','Saurav Ganguly(c)','Mohammad Kaif','Rahul Dravid','Yuvraj Singh','Dinesh Mongia','Harbhajan Singh','Zaheer Khan','Javagal Srinath','Ashish Nehra'])\n",
    "aus = pd.Series(['Adam Gilchrist','Matthew Hayden','Ricky Ponting(c)','Damien Martyn','Darren Lehmann','Michael Bevan','Andrew Symonds','Brad Hogg','Andy Bichel','Brett Lee','Glenn McGrath'])"
   ]
  },
  {
   "cell_type": "markdown",
   "metadata": {
    "colab_type": "text",
    "id": "j41bky5bjGyP"
   },
   "source": [
    "# Important assumptions / notes : \n",
    "# 1) Strike rate(y) is assumed to increase with balls faced(x)\n",
    "# 2) Score (y) is assumed to increase with Strike rate (x) \n",
    "# 3) Bowling abilities are taking out of consideration for simplicity\n",
    "\n",
    "#Sources : howstat"
   ]
  },
  {
   "cell_type": "markdown",
   "metadata": {
    "colab_type": "text",
    "id": "OA8H5LOhiifA"
   },
   "source": [
    "Stuffs : \n",
    "1) Collect 22 players innings by innings stats until the CWC 2003 final - (R,S)\n",
    "\n",
    "2) Store the data with appropriate labels in 22 separate CSV files - (R,S)\n",
    "\n",
    "3) Import all 22 csv files assigned to a variable and clean the data - (R)\n",
    "\n",
    "4) WAF to regress strike rate vs balls faced for one player \n",
    "\n",
    "5) WAF to regress score vs strike rate for one player\n",
    "\n",
    "6) WAF to randomise 0,1 for the toss and 0,1 for batting/fielding\n",
    "\n",
    "7) For the batting team both times,loop all players with functions 3 and 4 until 50 overs are up (or) 10 wickets are gone..refer the code you sent to rishaab for additional reference in putting criterion to regress function 3 (not cross 300 ball limit) and chasing target...the return values of both function should be score and balls faced ig\n",
    "\n",
    "8) Put both scores and ball faced of all batsmen who played in a neat scorecard plus final score and wickets lost\n",
    "\n",
    "9) Celebrate/mourn\n"
   ]
  },
  {
   "cell_type": "code",
   "execution_count": 106,
   "metadata": {
    "colab": {
     "base_uri": "https://localhost:8080/",
     "height": 128
    },
    "colab_type": "code",
    "id": "yJYtW4CegmTl",
    "outputId": "e8d7f24a-823d-4361-f825-d356dacedac9"
   },
   "outputs": [],
   "source": [
    "#team india\n",
    "filenames = ['i1.csv','i2.csv','i3.csv','i4.csv','i5.csv','i6.csv','i7.csv','i8.csv','i9.csv','i10.csv','i11.csv']\n",
    "dataframes = []\n",
    "for f in filenames:\n",
    "    dataframes.append(pd.read_csv(f))\n",
    "    \n",
    "df_i = []\n",
    "for i in dataframes:\n",
    "    i= i[['Runs','B/F','S/R']]\n",
    "    i= i[i['Runs'] != '-']\n",
    "    i= i.dropna()\n",
    "    \n",
    "    for ind in i.index:\n",
    "        if( (i['Runs'][ind]).isnumeric() == False):\n",
    "            i['Runs'][ind] = i['Runs'][ind][:-1]\n",
    "        if( (i['S/R'][ind]) == '-'):\n",
    "            i['S/R'][ind] = 0\n",
    "            \n",
    "    df_i.append(i)\n"
   ]
  },
  {
   "cell_type": "code",
   "execution_count": 110,
   "metadata": {
    "colab": {},
    "colab_type": "code",
    "id": "UrX0h5CaAn1H"
   },
   "outputs": [],
   "source": [
    "#team australia\n",
    "filenames = ['a1.csv','a2.csv','a3.csv','a4.csv','a5.csv','a6.csv','a7.csv','a8.csv','a9.csv','a10.csv','a11.csv']\n",
    "df = []\n",
    "for f in filenames:\n",
    "    df.append(pd.read_csv(f))\n",
    "    \n",
    "df_a = []\n",
    "for i in df:\n",
    "    i= i[['Runs','B/F','S/R']]\n",
    "    i= i[i['Runs'] != '-']\n",
    "    i= i.dropna()\n",
    "    \n",
    "    for ind in i.index:\n",
    "        if( (i['Runs'][ind]).isnumeric() == False):\n",
    "            i['Runs'][ind] = i['Runs'][ind][:-1]\n",
    "        if( (i['S/R'][ind]) == '-'):\n",
    "            i['S/R'][ind] = 0\n",
    "            \n",
    "    df_a.append(i)"
   ]
  },
  {
   "cell_type": "code",
   "execution_count": 184,
   "metadata": {},
   "outputs": [
    {
     "data": {
      "text/html": [
       "<div>\n",
       "<style scoped>\n",
       "    .dataframe tbody tr th:only-of-type {\n",
       "        vertical-align: middle;\n",
       "    }\n",
       "\n",
       "    .dataframe tbody tr th {\n",
       "        vertical-align: top;\n",
       "    }\n",
       "\n",
       "    .dataframe thead th {\n",
       "        text-align: right;\n",
       "    }\n",
       "</style>\n",
       "<table border=\"1\" class=\"dataframe\">\n",
       "  <thead>\n",
       "    <tr style=\"text-align: right;\">\n",
       "      <th></th>\n",
       "      <th>Runs</th>\n",
       "      <th>B/F</th>\n",
       "      <th>S/R</th>\n",
       "    </tr>\n",
       "  </thead>\n",
       "  <tbody>\n",
       "    <tr>\n",
       "      <th>0</th>\n",
       "      <td>0</td>\n",
       "      <td>2</td>\n",
       "      <td>0</td>\n",
       "    </tr>\n",
       "    <tr>\n",
       "      <th>1</th>\n",
       "      <td>0</td>\n",
       "      <td>2</td>\n",
       "      <td>0</td>\n",
       "    </tr>\n",
       "    <tr>\n",
       "      <th>2</th>\n",
       "      <td>36</td>\n",
       "      <td>39</td>\n",
       "      <td>92.31</td>\n",
       "    </tr>\n",
       "    <tr>\n",
       "      <th>3</th>\n",
       "      <td>10</td>\n",
       "      <td>12</td>\n",
       "      <td>83.33</td>\n",
       "    </tr>\n",
       "    <tr>\n",
       "      <th>4</th>\n",
       "      <td>20</td>\n",
       "      <td>25</td>\n",
       "      <td>80</td>\n",
       "    </tr>\n",
       "    <tr>\n",
       "      <th>...</th>\n",
       "      <td>...</td>\n",
       "      <td>...</td>\n",
       "      <td>...</td>\n",
       "    </tr>\n",
       "    <tr>\n",
       "      <th>308</th>\n",
       "      <td>98</td>\n",
       "      <td>75</td>\n",
       "      <td>130.67</td>\n",
       "    </tr>\n",
       "    <tr>\n",
       "      <th>309</th>\n",
       "      <td>5</td>\n",
       "      <td>12</td>\n",
       "      <td>41.67</td>\n",
       "    </tr>\n",
       "    <tr>\n",
       "      <th>310</th>\n",
       "      <td>97</td>\n",
       "      <td>120</td>\n",
       "      <td>80.83</td>\n",
       "    </tr>\n",
       "    <tr>\n",
       "      <th>311</th>\n",
       "      <td>15</td>\n",
       "      <td>16</td>\n",
       "      <td>93.75</td>\n",
       "    </tr>\n",
       "    <tr>\n",
       "      <th>312</th>\n",
       "      <td>83</td>\n",
       "      <td>101</td>\n",
       "      <td>82.18</td>\n",
       "    </tr>\n",
       "  </tbody>\n",
       "</table>\n",
       "<p>304 rows × 3 columns</p>\n",
       "</div>"
      ],
      "text/plain": [
       "    Runs  B/F     S/R\n",
       "0      0    2       0\n",
       "1      0    2       0\n",
       "2     36   39   92.31\n",
       "3     10   12   83.33\n",
       "4     20   25      80\n",
       "..   ...  ...     ...\n",
       "308   98   75  130.67\n",
       "309    5   12   41.67\n",
       "310   97  120   80.83\n",
       "311   15   16   93.75\n",
       "312   83  101   82.18\n",
       "\n",
       "[304 rows x 3 columns]"
      ]
     },
     "execution_count": 184,
     "metadata": {},
     "output_type": "execute_result"
    }
   ],
   "source": [
    "df_i[0] #sachin"
   ]
  },
  {
   "cell_type": "code",
   "execution_count": 199,
   "metadata": {},
   "outputs": [],
   "source": [
    "def deliveries(a, bpi): #a is batsman stats,deliveries is deliveries faced by batsman, bpi is balls faced in the innings\n",
    "    \n",
    "    luck = np.random.choice(np.array(range[0:5]))  #bad,average,good,very good,excellent\n",
    "    \n",
    "    if(luck==0):\n",
    "        ball = np.random.choice(np.array(range[0:10]))\n",
    "    elif(luck==1):\n",
    "        ball = np.random.choice(np.array(range[10:25]))\n",
    "    elif(luck==2):\n",
    "        ball = np.random.choice(np.array(range[25:60]))\n",
    "    elif(luck==3):\n",
    "        ball = np.random.choice(np.array(range[60:80]))\n",
    "    elif(luck==4):\n",
    "        ball = np.random.choice(np.array(range[80:150]))\n",
    "    \n",
    "    \n",
    "    if((ball + bpi)>300):\n",
    "        ball = 300 - bpi \n",
    "        out = False\n",
    "    else:\n",
    "        out = True\n",
    "\n",
    "        \n",
    "        \n",
    "        \n",
    "        \n",
    "    return ball,out "
   ]
  },
  {
   "cell_type": "code",
   "execution_count": 171,
   "metadata": {},
   "outputs": [],
   "source": [
    "#def stk_v_ball(a,bf)  a is batsman stats and bf is ball faced by batsman\n",
    "#return stk"
   ]
  },
  {
   "cell_type": "code",
   "execution_count": 172,
   "metadata": {},
   "outputs": [],
   "source": [
    "#def score_v_stk(a,stk) a is batsman stats and str is strike rate of batsman\n",
    "#return score"
   ]
  },
  {
   "cell_type": "code",
   "execution_count": 201,
   "metadata": {},
   "outputs": [],
   "source": [
    "def bat1(df):\n",
    "    score = 0\n",
    "    wickets = -1  #because while displaying scorecard, two people have to remain not out\n",
    "    bpi = 0\n",
    "    \n",
    "    runs = []\n",
    "    balls = []\n",
    "    strike_rates= []\n",
    "  \n",
    "    while (wickets<10 or bpi<=300):  #5 overs is trial run....once completed make it 50    \n",
    "        for i in df:\n",
    "            ball,out = deliveries(i,bpi)\n",
    "            stk = stk_v_ball(i,ball)\n",
    "            i_score = score_v_stk(i,stk)\n",
    "            \n",
    "            runs.append(i_score)\n",
    "            balls.append(ball)\n",
    "            strike_rates.append(stk)\n",
    "            \n",
    "            runs = np.array(runs)\n",
    "            balls = np.array(balls)\n",
    "            strike_rates = np.array(strike_rates)\n",
    "            \n",
    "            bpi+= ball\n",
    "            score+= i_score\n",
    "            if(out==True):\n",
    "                wickets+= 1            \n",
    "            \n",
    "    return score,runs,balls,strike_rate,wickets  #runs,balls,strike_rate is list and score,wickets is int"
   ]
  },
  {
   "cell_type": "code",
   "execution_count": 200,
   "metadata": {},
   "outputs": [],
   "source": [
    "#batting second\n",
    "def bat2(df,target):\n",
    "    score = 0\n",
    "    wickets = -1 #because while displaying scorecard, two people have to remain not out\n",
    "    bpi = 0\n",
    "    #inn_finish = False # this is a flag\n",
    "    \n",
    "    runs = []\n",
    "    balls = []\n",
    "    strike_rates= []\n",
    "    \n",
    "    \n",
    "    while (wickets<10 and bpi<=300):  #5 overs is trial run....once completed make it 50    \n",
    "        for i in df:\n",
    "            ball,out = deliveries(i,bpi)\n",
    "            stk = stk_v_ball(i,ball)\n",
    "            i_score = score_v_stk(i,stk)\n",
    "            \n",
    "            runs.append(i_score)\n",
    "            balls.append(ball)\n",
    "            strike_rates.append(stk)\n",
    "            \n",
    "            runs = np.array(runs)\n",
    "            balls = np.array(balls)\n",
    "            strike_rates = np.array(strike_rates)\n",
    "            \n",
    "            bpi+= ball\n",
    "            score+= i_score\n",
    "            if(out==True):\n",
    "                wickets+= 1\n",
    "            \n",
    "    return score,runs,balls,strike_rate,wickets  #runs,balls,strike_rate is list and score,wickets is int"
   ]
  },
  {
   "cell_type": "code",
   "execution_count": 185,
   "metadata": {},
   "outputs": [
    {
     "name": "stdout",
     "output_type": "stream",
     "text": [
      "It's time for toss - choose heads(1) or tails(0)1\n",
      "Australia has won the toss and have chosen to bat first on a flat track\n"
     ]
    }
   ],
   "source": [
    "#toss\n",
    "toss = int(input(\"It's time for toss - choose heads(1) or tails(0)\"))\n",
    "toss_outcome = np.array([0,1])\n",
    "if(np.random.choice(toss_outcome)==toss):\n",
    "    choose = int(input(\"Congratulations Sourav, you have won the toss, what would you like to do? \\nPress 1 to bat or 0 to bowl\"))\n",
    "    if choose==1 :\n",
    "                 print(\"India has won the toss and chose to bat first on a flat track \") \n",
    "                 #india,ind_run,ind_balls,ind_st_rate,ind_wickets = bat1(df_i)\n",
    "    else:\n",
    "                 print(\"India has won the toss and chose to field first on an bright sunny day\")\n",
    "                 #australia,aus_run,aus_balls,aus_st_rate,aus_wickets = bat1(df_a)\n",
    "else:\n",
    "    if(np.random.choice(toss_outcome)==0):\n",
    "                 print(\"Australia has won the toss and Ponting chose to bowl first\")\n",
    "                 #india,ind_run,ind_balls,ind_st_rate,ind_wickets = bat1(df_i)  \n",
    "    else:\n",
    "                 print(\"Australia has won the toss and have chosen to bat first on a flat track\")\n",
    "                 #australia,aus_run,aus_balls,aus_st_rate,aus_wickets = bat1(df_a)"
   ]
  },
  {
   "cell_type": "code",
   "execution_count": 181,
   "metadata": {},
   "outputs": [],
   "source": [
    "#if(india==0 and australia!=0):\n",
    "#    india = bat2(df_i,australia)\n",
    "#elif(australia==0 and india !=0):\n",
    "#    australia = bat2(df_a,india)"
   ]
  },
  {
   "cell_type": "code",
   "execution_count": 194,
   "metadata": {},
   "outputs": [],
   "source": [
    "#scorecard\n",
    "#india_scorecard = pd.DataFrame([ind_run,ind_balls,ind_st_rates,index = ind])  #ig"
   ]
  },
  {
   "cell_type": "code",
   "execution_count": 188,
   "metadata": {},
   "outputs": [],
   "source": [
    "#if(india>australia):\n",
    "#    print(\"India has won the World Cup for their second time ever since 1983, beating the defending champions in style\")\n",
    "#elif(india<australia):\n",
    "#    print(\"The World Cup is retained by the mighty Australians, and no one in the globe could challenge them enough\")\n",
    "#else:\n",
    "#    print(\"I can't believe what we have witnessed! It's a tie! The World Cup is rightfully shared by the 2 mightiest teams in the world\")\n"
   ]
  }
 ],
 "metadata": {
  "colab": {
   "collapsed_sections": [],
   "name": "India vs Australia 2003 World Cup final",
   "provenance": []
  },
  "kernelspec": {
   "display_name": "Python 3",
   "language": "python",
   "name": "python3"
  },
  "language_info": {
   "codemirror_mode": {
    "name": "ipython",
    "version": 3
   },
   "file_extension": ".py",
   "mimetype": "text/x-python",
   "name": "python",
   "nbconvert_exporter": "python",
   "pygments_lexer": "ipython3",
   "version": "3.7.6"
  }
 },
 "nbformat": 4,
 "nbformat_minor": 1
}
